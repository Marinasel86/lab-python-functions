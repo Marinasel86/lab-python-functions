{
 "cells": [
  {
   "cell_type": "code",
   "execution_count": 8,
   "metadata": {},
   "outputs": [],
   "source": [
    "# 1. Define a function named initialize_inventory that takes products as a parameter. "
   ]
  },
  {
   "cell_type": "code",
   "execution_count": 2,
   "metadata": {},
   "outputs": [
    {
     "name": "stdout",
     "output_type": "stream",
     "text": [
      "Inventory: {'mug': 56, 'book': 68, 'hat': 56, 't-shirt': 34, 'keychain': 16}\n"
     ]
    }
   ],
   "source": [
    "def initialize_inventory():\n",
    "    inventory = {}\n",
    "\n",
    "    for i in range(5):  # Use range(5) to iterate five times\n",
    "        product = input(\"Enter a product name: \")\n",
    "        quantity = input(\"Enter quantity for this product: \")\n",
    "        inventory[product] = int(quantity)\n",
    "\n",
    "    return inventory\n",
    "\n",
    "inventory = initialize_inventory()\n",
    "print(\"Inventory:\", inventory)"
   ]
  },
  {
   "cell_type": "code",
   "execution_count": null,
   "metadata": {},
   "outputs": [],
   "source": [
    "# 2. Define a function named get_customer_orders that takes no parameters. Inside the function, implement the code for prompting the user to enter the product names using a loop. The function should return the customer_orders set."
   ]
  },
  {
   "cell_type": "code",
   "execution_count": 3,
   "metadata": {},
   "outputs": [
    {
     "name": "stdout",
     "output_type": "stream",
     "text": [
      "Customer Orders: {'hat', 'keychain', 'book'}\n"
     ]
    }
   ],
   "source": [
    "def get_customer_orders():\n",
    "    customer_orders = set()  \n",
    "\n",
    "    for _ in range(5):  \n",
    "        product = input(\"Enter a product name (or 'done' to finish): \")\n",
    "        if product.lower() == 'done':\n",
    "            break\n",
    "        customer_orders.add(product)\n",
    "\n",
    "    return customer_orders\n",
    "\n",
    "orders = get_customer_orders()\n",
    "print(\"Customer Orders:\", orders)"
   ]
  },
  {
   "cell_type": "code",
   "execution_count": null,
   "metadata": {},
   "outputs": [],
   "source": [
    "# 3. Define a function named update_inventory that takes customer_orders and inventory as parameters. "
   ]
  },
  {
   "cell_type": "code",
   "execution_count": 12,
   "metadata": {},
   "outputs": [],
   "source": [
    "# definining customer as dicitionary because in my case i was getting errors for dictionary and set use\n",
    "\n",
    "order_part_two = {'hat': 1, 'book': 1, 'keychain': 1}"
   ]
  },
  {
   "cell_type": "code",
   "execution_count": 13,
   "metadata": {},
   "outputs": [
    {
     "name": "stdout",
     "output_type": "stream",
     "text": [
      "Updated inventory: {'mug': 56, 'book': 65, 'hat': 53, 't-shirt': 33, 'keychain': 14}\n"
     ]
    }
   ],
   "source": [
    "def update_inventory(orders, inventory):\n",
    "    for product, quantity in orders.items():\n",
    "        if product in inventory:\n",
    "            inventory[product] -= quantity\n",
    "\n",
    "update_inventory(order_part_two, inventory)\n",
    "print(\"Updated inventory:\", inventory)\n"
   ]
  },
  {
   "cell_type": "code",
   "execution_count": null,
   "metadata": {},
   "outputs": [],
   "source": [
    "# 4. Define a function named calculate_order_statistics that takes customer_orders and products as parameters. Inside the function, implement the code for calculating the order statistics (total products ordered, and percentage of unique products ordered). The function should return these values."
   ]
  },
  {
   "cell_type": "code",
   "execution_count": 26,
   "metadata": {},
   "outputs": [
    {
     "name": "stdout",
     "output_type": "stream",
     "text": [
      "Total products ordered: 3\n",
      "Percentage of unique products ordered: 60.0%\n"
     ]
    }
   ],
   "source": [
    "def calculate_order_statistics(order_part_two, inventory):\n",
    "    total_products_ordered = sum(order_part_two.values())  \n",
    "\n",
    "    unique_products_ordered = len(order_part_two)\n",
    "    total_unique_percentage = (len(order_part_two) / len(inventory)) * 100\n",
    "\n",
    "    return total_products_ordered, total_unique_percentage\n",
    "\n",
    "\n",
    "\n",
    "total_products_ordered, total_unique_percentage = calculate_order_statistics(order_part_two, inventory)\n",
    "\n",
    "print(f\"Total products ordered: {total_products_ordered}\")\n",
    "print(f\"Percentage of unique products ordered: {total_unique_percentage}%\")\n"
   ]
  },
  {
   "cell_type": "code",
   "execution_count": null,
   "metadata": {},
   "outputs": [],
   "source": [
    "# 5. Define a function named print_order_statistics that takes order_statistics as a parameter."
   ]
  },
  {
   "cell_type": "code",
   "execution_count": 30,
   "metadata": {},
   "outputs": [
    {
     "data": {
      "text/plain": [
       "(3, 60.0)"
      ]
     },
     "execution_count": 30,
     "metadata": {},
     "output_type": "execute_result"
    }
   ],
   "source": [
    "def print_order_statistics(order_statistics):\n",
    "    total__products_ordered, total_unique_percentage = order_statistics\n",
    "\n",
    "    print(f\"Total products ordered: {total__products_ordered}\")\n",
    "    print(f\"Percentage of unique products ordered: {total_unique_percentage}%\")\n",
    "\n",
    "order_statistics        \n"
   ]
  },
  {
   "cell_type": "code",
   "execution_count": null,
   "metadata": {},
   "outputs": [],
   "source": [
    "# 6. Define a function named print_updated_inventory that takes inventory as a parameter. Inside the function, implement the code for printing the updated inventory."
   ]
  },
  {
   "cell_type": "code",
   "execution_count": 36,
   "metadata": {},
   "outputs": [
    {
     "name": "stdout",
     "output_type": "stream",
     "text": [
      "Updated Inventory:\n",
      "mug: 56\n",
      "book: 65\n",
      "hat: 53\n",
      "t-shirt: 33\n",
      "keychain: 14\n"
     ]
    }
   ],
   "source": [
    "def print_updated_inventory(inventory):\n",
    "    print(\"Updated Inventory:\")\n",
    "    for key, quantity in inventory.items():\n",
    "        print(f\"{key}: {quantity}\")\n",
    "\n",
    "print_updated_inventory(inventory)\n"
   ]
  },
  {
   "cell_type": "code",
   "execution_count": null,
   "metadata": {},
   "outputs": [],
   "source": [
    "# 7. Call the functions. It looks all worked (at least for me)."
   ]
  }
 ],
 "metadata": {
  "kernelspec": {
   "display_name": "base",
   "language": "python",
   "name": "python3"
  },
  "language_info": {
   "codemirror_mode": {
    "name": "ipython",
    "version": 3
   },
   "file_extension": ".py",
   "mimetype": "text/x-python",
   "name": "python",
   "nbconvert_exporter": "python",
   "pygments_lexer": "ipython3",
   "version": "3.9.13"
  },
  "orig_nbformat": 4
 },
 "nbformat": 4,
 "nbformat_minor": 2
}
